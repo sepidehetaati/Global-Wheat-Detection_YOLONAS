{
 "cells": [
  {
   "cell_type": "code",
   "execution_count": null,
   "id": "198826a6",
   "metadata": {
    "papermill": {
     "duration": 0.010312,
     "end_time": "2023-06-14T12:32:19.169335",
     "exception": false,
     "start_time": "2023-06-14T12:32:19.159023",
     "status": "completed"
    },
    "tags": []
   },
   "outputs": [],
   "source": []
  },
  {
   "cell_type": "code",
   "execution_count": 1,
   "id": "3c95407e",
   "metadata": {
    "_cell_guid": "b1076dfc-b9ad-4769-8c92-a6c4dae69d19",
    "_uuid": "8f2839f25d086af736a60e9eeb907d3b93b6e0e5",
    "execution": {
     "iopub.execute_input": "2023-06-14T12:32:19.190903Z",
     "iopub.status.busy": "2023-06-14T12:32:19.190066Z",
     "iopub.status.idle": "2023-06-14T12:32:19.203694Z",
     "shell.execute_reply": "2023-06-14T12:32:19.202890Z"
    },
    "papermill": {
     "duration": 0.026469,
     "end_time": "2023-06-14T12:32:19.205822",
     "exception": false,
     "start_time": "2023-06-14T12:32:19.179353",
     "status": "completed"
    },
    "tags": []
   },
   "outputs": [],
   "source": [
    "# This Python 3 environment comes with many helpful analytics libraries installed\n",
    "# It is defined by the kaggle/python Docker image: https://github.com/kaggle/docker-python\n",
    "# For example, here's several helpful packages to load\n",
    "\n",
    "import numpy as np # linear algebra\n",
    "import pandas as pd # data processing, CSV file I/O (e.g. pd.read_csv)\n",
    "\n",
    "# Input data files are available in the read-only \"../input/\" directory\n",
    "# For example, running this (by clicking run or pressing Shift+Enter) will list all files under the input directory\n",
    "\n",
    "import os\n",
    "#for dirname, _, filenames in os.walk('/kaggle/input'):\n",
    "#    for filename in filenames:\n",
    "#        print(os.path.join(dirname, filename))\n",
    "\n",
    "# You can write up to 20GB to the current directory (/kaggle/working/) that gets preserved as output when you create a version using \"Save & Run All\" \n",
    "# You can also write temporary files to /kaggle/temp/, but they won't be saved outside of the current session"
   ]
  },
  {
   "cell_type": "code",
   "execution_count": 2,
   "id": "2441527f",
   "metadata": {
    "execution": {
     "iopub.execute_input": "2023-06-14T12:32:19.226801Z",
     "iopub.status.busy": "2023-06-14T12:32:19.226156Z",
     "iopub.status.idle": "2023-06-14T12:32:24.601825Z",
     "shell.execute_reply": "2023-06-14T12:32:24.600709Z"
    },
    "papermill": {
     "duration": 5.389233,
     "end_time": "2023-06-14T12:32:24.604834",
     "exception": false,
     "start_time": "2023-06-14T12:32:19.215601",
     "status": "completed"
    },
    "tags": []
   },
   "outputs": [],
   "source": [
    "import os\n",
    "import numpy as np\n",
    "import pandas as pd\n",
    "import matplotlib.pyplot as plt\n",
    "\n",
    "import seaborn as sns\n",
    "import glob\n",
    "import shutil\n",
    "import torchvision\n",
    "\n",
    "from torchvision.io import read_image\n",
    "from torchvision.utils import draw_bounding_boxes\n",
    "from shutil import copyfile\n",
    "from pathlib import Path\n",
    "from tqdm import tqdm\n",
    "from sklearn.model_selection import train_test_split\n",
    "from PIL import Image, ImageDraw, ImageFont\n",
    "from PIL import __version__ as pil_version\n",
    "#from ultralytics.yolo.utils import LOGGER, TryExcept, plt_settings, threaded\n",
    "#from ultralytics.yolo.utils.plotting import *\n",
    "from scipy.ndimage import gaussian_filter1d\n",
    "\n",
    "%matplotlib inline"
   ]
  },
  {
   "cell_type": "code",
   "execution_count": null,
   "id": "c28c0045",
   "metadata": {
    "execution": {
     "iopub.execute_input": "2023-06-14T12:32:24.634222Z",
     "iopub.status.busy": "2023-06-14T12:32:24.633643Z",
     "iopub.status.idle": "2023-06-14T12:32:27.272326Z",
     "shell.execute_reply": "2023-06-14T12:32:27.271410Z"
    },
    "papermill": {
     "duration": 2.653765,
     "end_time": "2023-06-14T12:32:27.274380",
     "exception": false,
     "start_time": "2023-06-14T12:32:24.620615",
     "status": "completed"
    },
    "tags": []
   },
   "outputs": [],
   "source": [
    "TRAIN_PATH = '/kaggle/input/global-wheat-detection/train/'\n",
    "TEST_PATH = '/kaggle/input/global-wheat-detection/test/'\n",
    "\n",
    "%cd ../\n",
    "\n",
    "df = pd.read_csv('/kaggle/input/global-wheat-detection/train.csv')\n",
    "df['path'] = df.apply(lambda row: TRAIN_PATH+row.image_id+'.jpg', axis=1)\n",
    "df.head()"
   ]
  },
  {
   "cell_type": "code",
   "execution_count": 4,
   "id": "382bf72e",
   "metadata": {
    "execution": {
     "iopub.execute_input": "2023-06-14T12:32:27.296925Z",
     "iopub.status.busy": "2023-06-14T12:32:27.296009Z",
     "iopub.status.idle": "2023-06-14T12:32:27.315657Z",
     "shell.execute_reply": "2023-06-14T12:32:27.314792Z"
    },
    "papermill": {
     "duration": 0.033,
     "end_time": "2023-06-14T12:32:27.317644",
     "exception": false,
     "start_time": "2023-06-14T12:32:27.284644",
     "status": "completed"
    },
    "tags": []
   },
   "outputs": [],
   "source": [
    "train_list, valid_list = train_test_split(df.image_id.unique(), test_size=0.2, random_state=1,shuffle = True)"
   ]
  },
  {
   "cell_type": "code",
   "execution_count": null,
   "id": "802cf194",
   "metadata": {
    "execution": {
     "iopub.execute_input": "2023-06-14T12:32:27.338857Z",
     "iopub.status.busy": "2023-06-14T12:32:27.338586Z",
     "iopub.status.idle": "2023-06-14T12:32:27.345113Z",
     "shell.execute_reply": "2023-06-14T12:32:27.344201Z"
    },
    "papermill": {
     "duration": 0.019427,
     "end_time": "2023-06-14T12:32:27.347124",
     "exception": false,
     "start_time": "2023-06-14T12:32:27.327697",
     "status": "completed"
    },
    "tags": []
   },
   "outputs": [],
   "source": [
    "len(train_list)"
   ]
  },
  {
   "cell_type": "code",
   "execution_count": null,
   "id": "d020d6e6",
   "metadata": {
    "execution": {
     "iopub.execute_input": "2023-06-14T12:32:27.368325Z",
     "iopub.status.busy": "2023-06-14T12:32:27.368070Z",
     "iopub.status.idle": "2023-06-14T12:32:27.373169Z",
     "shell.execute_reply": "2023-06-14T12:32:27.372347Z"
    },
    "papermill": {
     "duration": 0.017849,
     "end_time": "2023-06-14T12:32:27.375061",
     "exception": false,
     "start_time": "2023-06-14T12:32:27.357212",
     "status": "completed"
    },
    "tags": []
   },
   "outputs": [],
   "source": [
    "len(valid_list)"
   ]
  },
  {
   "cell_type": "code",
   "execution_count": null,
   "id": "c8c74f27",
   "metadata": {
    "execution": {
     "iopub.execute_input": "2023-06-14T12:32:27.397560Z",
     "iopub.status.busy": "2023-06-14T12:32:27.396729Z",
     "iopub.status.idle": "2023-06-14T12:32:27.514912Z",
     "shell.execute_reply": "2023-06-14T12:32:27.513832Z"
    },
    "papermill": {
     "duration": 0.131648,
     "end_time": "2023-06-14T12:32:27.517405",
     "exception": false,
     "start_time": "2023-06-14T12:32:27.385757",
     "status": "completed"
    },
    "tags": []
   },
   "outputs": [],
   "source": [
    "train_df = df.loc[df.image_id.isin(train_list)]\n",
    "valid_df = df.loc[df.image_id.isin(valid_list)]\n",
    "\n",
    "train_df.loc[:, 'split'] = 'train'\n",
    "valid_df.loc[:, 'split'] = 'valid'\n",
    "\n",
    "df = pd.concat([train_df, valid_df]).reset_index(drop=True)"
   ]
  },
  {
   "cell_type": "code",
   "execution_count": null,
   "id": "5eb6c339",
   "metadata": {
    "execution": {
     "iopub.execute_input": "2023-06-14T12:32:27.540369Z",
     "iopub.status.busy": "2023-06-14T12:32:27.540061Z",
     "iopub.status.idle": "2023-06-14T12:32:27.546397Z",
     "shell.execute_reply": "2023-06-14T12:32:27.545376Z"
    },
    "papermill": {
     "duration": 0.021126,
     "end_time": "2023-06-14T12:32:27.549472",
     "exception": false,
     "start_time": "2023-06-14T12:32:27.528346",
     "status": "completed"
    },
    "tags": []
   },
   "outputs": [],
   "source": [
    "len(train_df), len(valid_df)"
   ]
  },
  {
   "cell_type": "code",
   "execution_count": null,
   "id": "f2a0031a",
   "metadata": {
    "execution": {
     "iopub.execute_input": "2023-06-14T12:32:27.571561Z",
     "iopub.status.busy": "2023-06-14T12:32:27.571276Z",
     "iopub.status.idle": "2023-06-14T12:32:27.576088Z",
     "shell.execute_reply": "2023-06-14T12:32:27.575245Z"
    },
    "papermill": {
     "duration": 0.018297,
     "end_time": "2023-06-14T12:32:27.578321",
     "exception": false,
     "start_time": "2023-06-14T12:32:27.560024",
     "status": "completed"
    },
    "tags": []
   },
   "outputs": [],
   "source": [
    "print(f'Size of dataset: {len(df)}, training images: {len(train_df)}. validation images: {len(valid_df)}')"
   ]
  },
  {
   "cell_type": "code",
   "execution_count": null,
   "id": "c6f2ea84",
   "metadata": {
    "execution": {
     "iopub.execute_input": "2023-06-14T12:32:27.600868Z",
     "iopub.status.busy": "2023-06-14T12:32:27.600054Z",
     "iopub.status.idle": "2023-06-14T12:32:28.558955Z",
     "shell.execute_reply": "2023-06-14T12:32:28.557784Z"
    },
    "papermill": {
     "duration": 0.9726,
     "end_time": "2023-06-14T12:32:28.561413",
     "exception": false,
     "start_time": "2023-06-14T12:32:27.588813",
     "status": "completed"
    },
    "tags": []
   },
   "outputs": [],
   "source": [
    "%cd ../../\n",
    "%cd kaggle/working/\n",
    "\n",
    "os.makedirs('dataset/images/train', exist_ok=True)\n",
    "os.makedirs('dataset/images/valid', exist_ok=True)\n",
    "os.makedirs('dataset/images/test', exist_ok=True)\n",
    "\n",
    "os.makedirs('dataset/labels/train', exist_ok=True)\n",
    "os.makedirs('dataset/labels/valid', exist_ok=True)\n",
    "os.makedirs('dataset/labels/test', exist_ok=True)\n",
    "os.makedirs('dataset/checkpoint', exist_ok=True)\n",
    "\n",
    "\n",
    "%cd ../../\n",
    "!tree kaggle/working/dataset"
   ]
  },
  {
   "cell_type": "code",
   "execution_count": null,
   "id": "71a5575c",
   "metadata": {
    "execution": {
     "iopub.execute_input": "2023-06-14T12:32:28.585576Z",
     "iopub.status.busy": "2023-06-14T12:32:28.584590Z",
     "iopub.status.idle": "2023-06-14T12:35:58.770014Z",
     "shell.execute_reply": "2023-06-14T12:35:58.768288Z"
    },
    "papermill": {
     "duration": 210.199519,
     "end_time": "2023-06-14T12:35:58.772050",
     "exception": false,
     "start_time": "2023-06-14T12:32:28.572531",
     "status": "completed"
    },
    "tags": []
   },
   "outputs": [],
   "source": [
    "# Move the images to relevant split folder.\n",
    "for i in tqdm(range(len(df))):\n",
    "    row = df.loc[i]\n",
    "    if row.split == 'train':\n",
    "        copyfile(row.path, f'kaggle/working/dataset/images/train/{row.image_id}.jpg')\n",
    "    else:\n",
    "        copyfile(row.path, f'kaggle/working/dataset/images/valid/{row.image_id}.jpg')"
   ]
  },
  {
   "cell_type": "code",
   "execution_count": 12,
   "id": "a741ef2d",
   "metadata": {
    "execution": {
     "iopub.execute_input": "2023-06-14T12:35:59.069916Z",
     "iopub.status.busy": "2023-06-14T12:35:59.069053Z",
     "iopub.status.idle": "2023-06-14T12:35:59.167249Z",
     "shell.execute_reply": "2023-06-14T12:35:59.166396Z"
    },
    "papermill": {
     "duration": 0.249309,
     "end_time": "2023-06-14T12:35:59.169350",
     "exception": false,
     "start_time": "2023-06-14T12:35:58.920041",
     "status": "completed"
    },
    "tags": []
   },
   "outputs": [],
   "source": [
    "# Move the test images to relevant split folder.\n",
    "# paths\n",
    "src = 'kaggle/input/global-wheat-detection/test'\n",
    "trg = 'kaggle/working/dataset/images/test'\n",
    "\n",
    "files=os.listdir(src)\n",
    "\n",
    "# iterating over all the files in\n",
    "# the source directory\n",
    "for fname in files:\n",
    "    # copying the files to the\n",
    "    # destination directory\n",
    "    shutil.copy2(os.path.join(src,fname), trg)"
   ]
  },
  {
   "cell_type": "code",
   "execution_count": null,
   "id": "551b717c",
   "metadata": {
    "execution": {
     "iopub.execute_input": "2023-06-14T12:35:59.466679Z",
     "iopub.status.busy": "2023-06-14T12:35:59.466277Z",
     "iopub.status.idle": "2023-06-14T12:35:59.473055Z",
     "shell.execute_reply": "2023-06-14T12:35:59.472005Z"
    },
    "papermill": {
     "duration": 0.160681,
     "end_time": "2023-06-14T12:35:59.476618",
     "exception": false,
     "start_time": "2023-06-14T12:35:59.315937",
     "status": "completed"
    },
    "tags": []
   },
   "outputs": [],
   "source": [
    "%cd /kaggle/working/"
   ]
  },
  {
   "cell_type": "code",
   "execution_count": null,
   "id": "47bb6c86",
   "metadata": {
    "execution": {
     "iopub.execute_input": "2023-06-14T12:35:59.779560Z",
     "iopub.status.busy": "2023-06-14T12:35:59.779178Z",
     "iopub.status.idle": "2023-06-14T12:35:59.785582Z",
     "shell.execute_reply": "2023-06-14T12:35:59.784578Z"
    },
    "papermill": {
     "duration": 0.161725,
     "end_time": "2023-06-14T12:35:59.789149",
     "exception": false,
     "start_time": "2023-06-14T12:35:59.627424",
     "status": "completed"
    },
    "tags": []
   },
   "outputs": [],
   "source": [
    "%%writefile dataset.yaml\n",
    "path: ../../../../../kaggle/working/dataset\n",
    "train: images/train\n",
    "val: images/valid\n",
    "test: images/test\n",
    "\n",
    "# Classes\n",
    "names:\n",
    "    0: wheat"
   ]
  },
  {
   "cell_type": "code",
   "execution_count": null,
   "id": "4b99f842",
   "metadata": {
    "execution": {
     "iopub.execute_input": "2023-06-14T12:36:00.087080Z",
     "iopub.status.busy": "2023-06-14T12:36:00.086146Z",
     "iopub.status.idle": "2023-06-14T12:36:01.049331Z",
     "shell.execute_reply": "2023-06-14T12:36:01.048002Z"
    },
    "papermill": {
     "duration": 1.115478,
     "end_time": "2023-06-14T12:36:01.052045",
     "exception": false,
     "start_time": "2023-06-14T12:35:59.936567",
     "status": "completed"
    },
    "tags": []
   },
   "outputs": [],
   "source": [
    "%cat dataset.yaml"
   ]
  },
  {
   "cell_type": "code",
   "execution_count": 16,
   "id": "8b50b4d6",
   "metadata": {
    "execution": {
     "iopub.execute_input": "2023-06-14T12:36:01.422032Z",
     "iopub.status.busy": "2023-06-14T12:36:01.421599Z",
     "iopub.status.idle": "2023-06-14T12:36:01.429504Z",
     "shell.execute_reply": "2023-06-14T12:36:01.428561Z"
    },
    "papermill": {
     "duration": 0.224323,
     "end_time": "2023-06-14T12:36:01.431941",
     "exception": false,
     "start_time": "2023-06-14T12:36:01.207618",
     "status": "completed"
    },
    "tags": []
   },
   "outputs": [],
   "source": [
    "def get_bbox(row):\n",
    "    bboxes = []\n",
    "    bbox = []\n",
    "    list1 = row.bbox.replace(\"[\", \"\").replace(\"]\",\"\").replace(\",\",\"\")\n",
    "    for i in list1.split(\" \"):\n",
    "        bboxes.append(float(i))\n",
    "    return bboxes"
   ]
  },
  {
   "cell_type": "code",
   "execution_count": 17,
   "id": "246ff738",
   "metadata": {
    "execution": {
     "iopub.execute_input": "2023-06-14T12:36:01.757405Z",
     "iopub.status.busy": "2023-06-14T12:36:01.757043Z",
     "iopub.status.idle": "2023-06-14T12:36:01.763723Z",
     "shell.execute_reply": "2023-06-14T12:36:01.762738Z"
    },
    "papermill": {
     "duration": 0.171921,
     "end_time": "2023-06-14T12:36:01.765931",
     "exception": false,
     "start_time": "2023-06-14T12:36:01.594010",
     "status": "completed"
    },
    "tags": []
   },
   "outputs": [],
   "source": [
    "# Convert the bounding boxes in YOLO format.\n",
    "def get_yolo_format_bbox(img_w, img_h, bboxes):\n",
    "    yolo_boxes = []\n",
    "    x = bboxes[0]\n",
    "    y = bboxes[1]\n",
    "    w = bboxes[2] \n",
    "    h = bboxes[3] \n",
    "    xc = x + int(w/2) # xmin + width/2\n",
    "    yc = y + int(h/2) # ymin + height/2\n",
    "    yolo_boxes=[0, xc/img_w, yc/img_h, w/img_w, h/img_h] # x_center y_center width height\n",
    "    yolo_boxes = str(yolo_boxes).replace(\"[\", \"\").replace(\"]\",\"\").replace(\",\",\"\")\n",
    "    return yolo_boxes"
   ]
  },
  {
   "cell_type": "code",
   "execution_count": null,
   "id": "98cadcbd",
   "metadata": {
    "execution": {
     "iopub.execute_input": "2023-06-14T12:36:02.073088Z",
     "iopub.status.busy": "2023-06-14T12:36:02.072741Z",
     "iopub.status.idle": "2023-06-14T12:36:37.554389Z",
     "shell.execute_reply": "2023-06-14T12:36:37.553020Z"
    },
    "papermill": {
     "duration": 35.637375,
     "end_time": "2023-06-14T12:36:37.556484",
     "exception": false,
     "start_time": "2023-06-14T12:36:01.919109",
     "status": "completed"
    },
    "tags": []
   },
   "outputs": [],
   "source": [
    "# Prepare the txt files for bounding box\n",
    "for i in tqdm(range(len(df))):\n",
    "    row = df.loc[i]\n",
    "    # Get image id\n",
    "    img_id = row.image_id\n",
    "    # Get split\n",
    "    split = row.split\n",
    "    \n",
    "    if row.split=='train':\n",
    "        file_name = f'dataset/labels/train/{row.image_id}.txt'\n",
    "    else:\n",
    "        file_name = f'dataset/labels/valid/{row.image_id}.txt'\n",
    "        \n",
    "    bboxes = get_bbox(row)\n",
    "        \n",
    "    # Format for YOLOv5\n",
    "    IMG_SIZE = 1024\n",
    "    yolo_bboxes = get_yolo_format_bbox(IMG_SIZE, IMG_SIZE, bboxes)\n",
    "        \n",
    "    with open(file_name, 'a') as f:\n",
    "        f.write(yolo_bboxes)\n",
    "        f.write('\\n')"
   ]
  },
  {
   "cell_type": "code",
   "execution_count": 19,
   "id": "2841469d",
   "metadata": {
    "execution": {
     "iopub.execute_input": "2023-06-14T12:36:37.916128Z",
     "iopub.status.busy": "2023-06-14T12:36:37.915197Z",
     "iopub.status.idle": "2023-06-14T12:36:52.569455Z",
     "shell.execute_reply": "2023-06-14T12:36:52.568224Z"
    },
    "papermill": {
     "duration": 14.838991,
     "end_time": "2023-06-14T12:36:52.572190",
     "exception": false,
     "start_time": "2023-06-14T12:36:37.733199",
     "status": "completed"
    },
    "tags": []
   },
   "outputs": [],
   "source": [
    "%%capture\n",
    "#!pip install super-gradients==3.1.0\n",
    "#!pip install super-gradients\n",
    "!pip install imutils"
   ]
  },
  {
   "cell_type": "code",
   "execution_count": null,
   "id": "93de19fe",
   "metadata": {
    "execution": {
     "iopub.execute_input": "2023-06-14T12:36:52.928954Z",
     "iopub.status.busy": "2023-06-14T12:36:52.928582Z",
     "iopub.status.idle": "2023-06-14T12:41:32.951681Z",
     "shell.execute_reply": "2023-06-14T12:41:32.950521Z"
    },
    "papermill": {
     "duration": 280.202239,
     "end_time": "2023-06-14T12:41:32.954561",
     "exception": false,
     "start_time": "2023-06-14T12:36:52.752322",
     "status": "completed"
    },
    "tags": []
   },
   "outputs": [],
   "source": [
    "#Install YOLO-NAS\n",
    "!pip install super-gradients==3.1.1 --quiet\n",
    "!pip install --upgrade pillow --quiet\n",
    "!pip install --upgrade torchvision --quiet\n",
    "#vis utils\n",
    "!pip install supervision --quiet "
   ]
  },
  {
   "cell_type": "code",
   "execution_count": null,
   "id": "e8d65567",
   "metadata": {
    "execution": {
     "iopub.execute_input": "2023-06-14T12:41:33.313545Z",
     "iopub.status.busy": "2023-06-14T12:41:33.313155Z",
     "iopub.status.idle": "2023-06-14T12:41:50.639863Z",
     "shell.execute_reply": "2023-06-14T12:41:50.639375Z"
    },
    "papermill": {
     "duration": 17.507043,
     "end_time": "2023-06-14T12:41:50.643142",
     "exception": false,
     "start_time": "2023-06-14T12:41:33.136099",
     "status": "completed"
    },
    "tags": []
   },
   "outputs": [],
   "source": [
    "import os\n",
    "\n",
    "import requests\n",
    "import torch\n",
    "from PIL import Image\n",
    "\n",
    "from super_gradients.training import Trainer, dataloaders, models\n",
    "from super_gradients.training.dataloaders.dataloaders import (\n",
    "    coco_detection_yolo_format_train, coco_detection_yolo_format_val\n",
    ")\n",
    "from super_gradients.training.losses import PPYoloELoss\n",
    "from super_gradients.training.metrics import DetectionMetrics_050\n",
    "from super_gradients.training.models.detection_models.pp_yolo_e import (\n",
    "    PPYoloEPostPredictionCallback\n",
    ")"
   ]
  },
  {
   "cell_type": "code",
   "execution_count": 22,
   "id": "b6f22bb8",
   "metadata": {
    "execution": {
     "iopub.execute_input": "2023-06-14T12:41:51.002711Z",
     "iopub.status.busy": "2023-06-14T12:41:51.002336Z",
     "iopub.status.idle": "2023-06-14T12:41:51.007098Z",
     "shell.execute_reply": "2023-06-14T12:41:51.006720Z"
    },
    "papermill": {
     "duration": 0.187441,
     "end_time": "2023-06-14T12:41:51.010549",
     "exception": false,
     "start_time": "2023-06-14T12:41:50.823108",
     "status": "completed"
    },
    "tags": []
   },
   "outputs": [],
   "source": [
    "class config:\n",
    "    #trainer params\n",
    "    CHECKPOINT_DIR = '/kaggle/working/dataset/checkpoint' #specify the path you want to save checkpoints to\n",
    "    EXPERIMENT_NAME = 'wheat_YOLO-NAS' #specify the experiment name\n",
    "\n",
    "    #dataset params\n",
    "    DATA_DIR = '/kaggle/working/dataset' #parent directory to where data lives\n",
    "\n",
    "    TRAIN_IMAGES_DIR = 'images/train' #child dir of DATA_DIR where train images are\n",
    "    TRAIN_LABELS_DIR = 'labels/train' #child dir of DATA_DIR where train labels are\n",
    "\n",
    "    VAL_IMAGES_DIR = 'images/valid' #child dir of DATA_DIR where validation images are\n",
    "    VAL_LABELS_DIR = 'labels/valid' #child dir of DATA_DIR where validation labels are\n",
    "\n",
    "    # if you have a test set\n",
    "    TEST_IMAGES_DIR = 'images/test' #child dir of DATA_DIR where test images are\n",
    "    TEST_LABELS_DIR = 'labels/test' #child dir of DATA_DIR where test labels are\n",
    "\n",
    "    CLASSES = ['wheat'] #what class names do you have\n",
    "\n",
    "    NUM_CLASSES = len(CLASSES)\n",
    "\n",
    "    #dataloader params - you can add whatever PyTorch dataloader params you have\n",
    "    #could be different across train, val, and test\n",
    "    DATALOADER_PARAMS={\n",
    "    'batch_size':8,\n",
    "    'num_workers':2\n",
    "    }\n",
    "\n",
    "    # model params\n",
    "    MODEL_NAME = 'yolo_nas_m' # choose from yolo_nas_s, yolo_nas_m, yolo_nas_l\n",
    "    PRETRAINED_WEIGHTS = 'coco' #only one option here: coco\n",
    "    "
   ]
  },
  {
   "cell_type": "code",
   "execution_count": 23,
   "id": "0555664c",
   "metadata": {
    "execution": {
     "iopub.execute_input": "2023-06-14T12:41:51.420984Z",
     "iopub.status.busy": "2023-06-14T12:41:51.420619Z",
     "iopub.status.idle": "2023-06-14T12:41:51.438883Z",
     "shell.execute_reply": "2023-06-14T12:41:51.438562Z"
    },
    "papermill": {
     "duration": 0.250257,
     "end_time": "2023-06-14T12:41:51.440949",
     "exception": false,
     "start_time": "2023-06-14T12:41:51.190692",
     "status": "completed"
    },
    "tags": []
   },
   "outputs": [],
   "source": [
    "trainer = Trainer(experiment_name=config.EXPERIMENT_NAME, ckpt_root_dir=config.CHECKPOINT_DIR)"
   ]
  },
  {
   "cell_type": "code",
   "execution_count": null,
   "id": "0c960a03",
   "metadata": {
    "execution": {
     "iopub.execute_input": "2023-06-14T12:41:51.800502Z",
     "iopub.status.busy": "2023-06-14T12:41:51.800142Z",
     "iopub.status.idle": "2023-06-14T12:41:58.487011Z",
     "shell.execute_reply": "2023-06-14T12:41:58.486576Z"
    },
    "papermill": {
     "duration": 6.868674,
     "end_time": "2023-06-14T12:41:58.489607",
     "exception": false,
     "start_time": "2023-06-14T12:41:51.620933",
     "status": "completed"
    },
    "tags": []
   },
   "outputs": [],
   "source": [
    "train_data = coco_detection_yolo_format_train(\n",
    "    dataset_params={\n",
    "        'data_dir': config.DATA_DIR,\n",
    "        'images_dir': config.TRAIN_IMAGES_DIR,\n",
    "        'labels_dir': config.TRAIN_LABELS_DIR,\n",
    "        'classes': config.CLASSES\n",
    "    },\n",
    "    dataloader_params=config.DATALOADER_PARAMS\n",
    ")\n"
   ]
  },
  {
   "cell_type": "code",
   "execution_count": null,
   "id": "27bf694f",
   "metadata": {
    "execution": {
     "iopub.execute_input": "2023-06-14T12:41:58.867233Z",
     "iopub.status.busy": "2023-06-14T12:41:58.866884Z",
     "iopub.status.idle": "2023-06-14T12:42:00.636093Z",
     "shell.execute_reply": "2023-06-14T12:42:00.635731Z"
    },
    "papermill": {
     "duration": 1.95783,
     "end_time": "2023-06-14T12:42:00.638432",
     "exception": false,
     "start_time": "2023-06-14T12:41:58.680602",
     "status": "completed"
    },
    "tags": []
   },
   "outputs": [],
   "source": [
    "val_data = coco_detection_yolo_format_val(\n",
    "    dataset_params={\n",
    "        'data_dir': config.DATA_DIR,\n",
    "        'images_dir': config.VAL_IMAGES_DIR,\n",
    "        'labels_dir': config.VAL_LABELS_DIR,\n",
    "        'classes': config.CLASSES\n",
    "    },\n",
    "    dataloader_params=config.DATALOADER_PARAMS\n",
    ")\n"
   ]
  },
  {
   "cell_type": "code",
   "execution_count": 26,
   "id": "4570a848",
   "metadata": {
    "execution": {
     "iopub.execute_input": "2023-06-14T12:42:01.021944Z",
     "iopub.status.busy": "2023-06-14T12:42:01.021508Z",
     "iopub.status.idle": "2023-06-14T12:42:01.024353Z",
     "shell.execute_reply": "2023-06-14T12:42:01.023989Z"
    },
    "papermill": {
     "duration": 0.191938,
     "end_time": "2023-06-14T12:42:01.027220",
     "exception": false,
     "start_time": "2023-06-14T12:42:00.835282",
     "status": "completed"
    },
    "tags": []
   },
   "outputs": [],
   "source": [
    "\n",
    "\n",
    "#test_data = coco_detection_yolo_format_val(\n",
    "    #dataset_params={\n",
    "      #  'data_dir': config.DATA_DIR,\n",
    "     #   'images_dir': config.TEST_IMAGES_DIR,\n",
    "    #    'labels_dir': config.TEST_LABELS_DIR,\n",
    "   #     'classes': config.CLASSES\n",
    "  #  },\n",
    " #   dataloader_params=config.DATALOADER_PARAMS\n",
    "#)"
   ]
  },
  {
   "cell_type": "code",
   "execution_count": null,
   "id": "687d546e",
   "metadata": {
    "execution": {
     "iopub.execute_input": "2023-06-14T12:42:01.387584Z",
     "iopub.status.busy": "2023-06-14T12:42:01.387209Z",
     "iopub.status.idle": "2023-06-14T12:42:06.583714Z",
     "shell.execute_reply": "2023-06-14T12:42:06.583333Z"
    },
    "papermill": {
     "duration": 5.402467,
     "end_time": "2023-06-14T12:42:06.611807",
     "exception": false,
     "start_time": "2023-06-14T12:42:01.209340",
     "status": "completed"
    },
    "tags": []
   },
   "outputs": [],
   "source": [
    "train_data.dataset.plot()"
   ]
  },
  {
   "cell_type": "code",
   "execution_count": null,
   "id": "08718012",
   "metadata": {
    "execution": {
     "iopub.execute_input": "2023-06-14T12:42:07.029587Z",
     "iopub.status.busy": "2023-06-14T12:42:07.029178Z",
     "iopub.status.idle": "2023-06-14T12:42:09.265894Z",
     "shell.execute_reply": "2023-06-14T12:42:09.265489Z"
    },
    "papermill": {
     "duration": 2.447789,
     "end_time": "2023-06-14T12:42:09.268281",
     "exception": false,
     "start_time": "2023-06-14T12:42:06.820492",
     "status": "completed"
    },
    "tags": []
   },
   "outputs": [],
   "source": [
    "model = models.get(config.MODEL_NAME, \n",
    "                   num_classes=config.NUM_CLASSES, \n",
    "                   pretrained_weights=config.PRETRAINED_WEIGHTS\n",
    "                   )"
   ]
  },
  {
   "cell_type": "code",
   "execution_count": 29,
   "id": "575e75b3",
   "metadata": {
    "execution": {
     "iopub.execute_input": "2023-06-14T12:42:09.693837Z",
     "iopub.status.busy": "2023-06-14T12:42:09.693424Z",
     "iopub.status.idle": "2023-06-14T12:42:09.701217Z",
     "shell.execute_reply": "2023-06-14T12:42:09.700849Z"
    },
    "papermill": {
     "duration": 0.224888,
     "end_time": "2023-06-14T12:42:09.703756",
     "exception": false,
     "start_time": "2023-06-14T12:42:09.478868",
     "status": "completed"
    },
    "tags": []
   },
   "outputs": [],
   "source": [
    "from super_gradients.training.losses import PPYoloELoss\n",
    "from super_gradients.training.metrics import DetectionMetrics_050\n",
    "from super_gradients.training.models.detection_models.pp_yolo_e import PPYoloEPostPredictionCallback \n",
    "\n",
    "train_params = {\n",
    "    # ENABLING SILENT MODE\n",
    "    \"average_best_models\":True,\n",
    "    \"warmup_mode\": \"linear_epoch_step\",\n",
    "    \"warmup_initial_lr\": 1e-6,\n",
    "    \"lr_warmup_epochs\": 6,\n",
    "    \"initial_lr\": 5e-4,\n",
    "    \"lr_mode\": \"cosine\",\n",
    "    \"cosine_final_lr_ratio\": 0.1,\n",
    "    \"optimizer\": \"Adam\",\n",
    "    \"optimizer_params\": {\"weight_decay\": 0.0001},\n",
    "    \"zero_weight_decay_on_bias_and_bn\": True,\n",
    "    \"ema\": True,\n",
    "    \"ema_params\": {\"decay\": 0.9, \"decay_type\": \"threshold\"},\n",
    "    # ONLY TRAINING FOR 10 EPOCHS FOR THIS EXAMPLE NOTEBOOK\n",
    "    \"max_epochs\": 100,\n",
    "    \"mixed_precision\": True,\n",
    "    \"loss\": PPYoloELoss(\n",
    "        use_static_assigner=False,\n",
    "        # NOTE: num_classes needs to be defined here\n",
    "        num_classes=config.NUM_CLASSES,\n",
    "        reg_max=16\n",
    "    ),\n",
    "    \"valid_metrics_list\": [\n",
    "        DetectionMetrics_050(\n",
    "            score_thres=0.1,\n",
    "            top_k_predictions=300,\n",
    "            # NOTE: num_classes needs to be defined here\n",
    "            num_cls=config.NUM_CLASSES,\n",
    "            normalize_targets=True,\n",
    "            post_prediction_callback=PPYoloEPostPredictionCallback(\n",
    "                score_threshold=0.01,\n",
    "                nms_top_k=1000,\n",
    "                max_predictions=300,\n",
    "                nms_threshold=0.7\n",
    "            )\n",
    "        )\n",
    "    ],\n",
    "    \"metric_to_watch\": 'mAP@0.50'\n",
    "}"
   ]
  },
  {
   "cell_type": "code",
   "execution_count": null,
   "id": "1cca1271",
   "metadata": {
    "execution": {
     "iopub.execute_input": "2023-06-14T12:42:10.122751Z",
     "iopub.status.busy": "2023-06-14T12:42:10.122100Z",
     "iopub.status.idle": "2023-06-14T23:34:05.956631Z",
     "shell.execute_reply": "2023-06-14T23:34:05.955947Z"
    },
    "papermill": {
     "duration": 39116.051662,
     "end_time": "2023-06-14T23:34:05.962196",
     "exception": false,
     "start_time": "2023-06-14T12:42:09.910534",
     "status": "completed"
    },
    "tags": []
   },
   "outputs": [],
   "source": [
    "trainer.train(model=model, \n",
    "              training_params=train_params, \n",
    "              train_loader=train_data, \n",
    "              valid_loader=val_data)\n"
   ]
  },
  {
   "cell_type": "code",
   "execution_count": 31,
   "id": "12673e6f",
   "metadata": {
    "execution": {
     "iopub.execute_input": "2023-06-14T23:34:13.631569Z",
     "iopub.status.busy": "2023-06-14T23:34:13.631132Z",
     "iopub.status.idle": "2023-06-14T23:34:15.531097Z",
     "shell.execute_reply": "2023-06-14T23:34:15.530691Z"
    },
    "papermill": {
     "duration": 5.656183,
     "end_time": "2023-06-14T23:34:15.533359",
     "exception": false,
     "start_time": "2023-06-14T23:34:09.877176",
     "status": "completed"
    },
    "tags": []
   },
   "outputs": [],
   "source": [
    "best_model = models.get(config.MODEL_NAME,\n",
    "                        num_classes=config.NUM_CLASSES,\n",
    "                        checkpoint_path=os.path.join(config.CHECKPOINT_DIR, config.EXPERIMENT_NAME, 'average_model.pth'))"
   ]
  },
  {
   "cell_type": "code",
   "execution_count": null,
   "id": "351724d4",
   "metadata": {
    "execution": {
     "iopub.execute_input": "2023-06-14T23:34:23.115540Z",
     "iopub.status.busy": "2023-06-14T23:34:23.115094Z",
     "iopub.status.idle": "2023-06-14T23:36:36.685080Z",
     "shell.execute_reply": "2023-06-14T23:36:36.684422Z"
    },
    "papermill": {
     "duration": 137.384835,
     "end_time": "2023-06-14T23:36:36.702407",
     "exception": false,
     "start_time": "2023-06-14T23:34:19.317572",
     "status": "completed"
    },
    "tags": []
   },
   "outputs": [],
   "source": [
    "best_model.predict( \"/kaggle/working/dataset/images/test\",  conf=0.25).show()"
   ]
  },
  {
   "cell_type": "code",
   "execution_count": 33,
   "id": "e245abb0",
   "metadata": {
    "execution": {
     "iopub.execute_input": "2023-06-14T23:36:45.233920Z",
     "iopub.status.busy": "2023-06-14T23:36:45.233439Z",
     "iopub.status.idle": "2023-06-14T23:36:45.236437Z",
     "shell.execute_reply": "2023-06-14T23:36:45.236098Z"
    },
    "papermill": {
     "duration": 4.599005,
     "end_time": "2023-06-14T23:36:45.240988",
     "exception": false,
     "start_time": "2023-06-14T23:36:40.641983",
     "status": "completed"
    },
    "tags": []
   },
   "outputs": [],
   "source": [
    "# best_model = models.get(\n",
    "#     MODEL_ARCH,\n",
    "#     num_classes=len(dataset_params['classes']),\n",
    "#     checkpoint_path=f\"{CHECKPOINT_DIR}/{EXPERIMENT_NAME}/average_model.pth\"\n",
    "# ).to(DEVICE)"
   ]
  },
  {
   "cell_type": "code",
   "execution_count": 34,
   "id": "76371e45",
   "metadata": {
    "execution": {
     "iopub.execute_input": "2023-06-14T23:36:53.383344Z",
     "iopub.status.busy": "2023-06-14T23:36:53.382340Z",
     "iopub.status.idle": "2023-06-14T23:36:53.386544Z",
     "shell.execute_reply": "2023-06-14T23:36:53.386083Z"
    },
    "papermill": {
     "duration": 3.896723,
     "end_time": "2023-06-14T23:36:53.389095",
     "exception": false,
     "start_time": "2023-06-14T23:36:49.492372",
     "status": "completed"
    },
    "tags": []
   },
   "outputs": [],
   "source": [
    "# #trainer.test(\n",
    "#  #   model=best_model,\n",
    "#     test_loader=test_data,\n",
    "#     test_metrics_list=DetectionMetrics_050(\n",
    "#         score_thres=0.1, \n",
    "#         top_k_predictions=300, \n",
    "#         num_cls=config.NUM_CLASSES, \n",
    "#         normalize_targets=True, \n",
    "#         post_prediction_callback=PPYoloEPostPredictionCallback(\n",
    "#             score_threshold=0.01, \n",
    "#             nms_top_k=1000, \n",
    "#             max_predictions=300,                                                                              \n",
    "#             nms_threshold=0.7\n",
    "#         )\n",
    "#     )\n",
    "# )"
   ]
  },
  {
   "cell_type": "code",
   "execution_count": 35,
   "id": "289cd37e",
   "metadata": {
    "execution": {
     "iopub.execute_input": "2023-06-14T23:37:01.429521Z",
     "iopub.status.busy": "2023-06-14T23:37:01.429128Z",
     "iopub.status.idle": "2023-06-14T23:37:01.431998Z",
     "shell.execute_reply": "2023-06-14T23:37:01.431605Z"
    },
    "papermill": {
     "duration": 3.912059,
     "end_time": "2023-06-14T23:37:01.435420",
     "exception": false,
     "start_time": "2023-06-14T23:36:57.523361",
     "status": "completed"
    },
    "tags": []
   },
   "outputs": [],
   "source": [
    "# #trainer.test(model=best_model,\n",
    "#  #           test_loader=test_loader,\n",
    "#   #          test_metrics_list=DetectionMetrics_050(score_thres=0.1, \n",
    "#    #                                                top_k_predictions=300, \n",
    "#     #                                               num_cls=config.NUM_CLASSES, \n",
    "#      #                                              normalize_targets=True, \n",
    "#       #                                             post_prediction_callback=PPYoloEPostPredictionCallback(score_threshold=0.01, \n",
    "#                                                                                                           nms_top_k=1000,                                                                                                           max_predictions=300,                                                                              nms_threshold=0.7)\n",
    "#        #                                           ))"
   ]
  },
  {
   "cell_type": "code",
   "execution_count": 36,
   "id": "bab3e38c",
   "metadata": {
    "execution": {
     "iopub.execute_input": "2023-06-14T23:37:09.730214Z",
     "iopub.status.busy": "2023-06-14T23:37:09.729833Z",
     "iopub.status.idle": "2023-06-14T23:37:09.732247Z",
     "shell.execute_reply": "2023-06-14T23:37:09.731858Z"
    },
    "papermill": {
     "duration": 4.140046,
     "end_time": "2023-06-14T23:37:09.735393",
     "exception": false,
     "start_time": "2023-06-14T23:37:05.595347",
     "status": "completed"
    },
    "tags": []
   },
   "outputs": [],
   "source": [
    "#%matplotlib inline\n",
    "#plot_results('/kaggle/working/runs/detect/train/results.csv')"
   ]
  },
  {
   "cell_type": "code",
   "execution_count": 37,
   "id": "21296d9b",
   "metadata": {
    "execution": {
     "iopub.execute_input": "2023-06-14T23:37:18.243254Z",
     "iopub.status.busy": "2023-06-14T23:37:18.242875Z",
     "iopub.status.idle": "2023-06-14T23:37:18.245503Z",
     "shell.execute_reply": "2023-06-14T23:37:18.245138Z"
    },
    "papermill": {
     "duration": 4.432494,
     "end_time": "2023-06-14T23:37:18.248252",
     "exception": false,
     "start_time": "2023-06-14T23:37:13.815758",
     "status": "completed"
    },
    "tags": []
   },
   "outputs": [],
   "source": [
    "#def show_results(file):\n",
    " #   plt.figure(figsize=(30,30))\n",
    "  #  img = np.asarray(Image.open(file))\n",
    "   # plt.imshow(img)\n",
    "   # plt.axis('off');"
   ]
  },
  {
   "cell_type": "code",
   "execution_count": 38,
   "id": "6aebc9f9",
   "metadata": {
    "execution": {
     "iopub.execute_input": "2023-06-14T23:37:26.296578Z",
     "iopub.status.busy": "2023-06-14T23:37:26.295381Z",
     "iopub.status.idle": "2023-06-14T23:37:26.299040Z",
     "shell.execute_reply": "2023-06-14T23:37:26.298653Z"
    },
    "papermill": {
     "duration": 3.966298,
     "end_time": "2023-06-14T23:37:26.301242",
     "exception": false,
     "start_time": "2023-06-14T23:37:22.334944",
     "status": "completed"
    },
    "tags": []
   },
   "outputs": [],
   "source": [
    "#show_results('/kaggle/working/runs/detect/train/results.png')"
   ]
  },
  {
   "cell_type": "code",
   "execution_count": 39,
   "id": "2d003e1d",
   "metadata": {
    "execution": {
     "iopub.execute_input": "2023-06-14T23:37:34.527243Z",
     "iopub.status.busy": "2023-06-14T23:37:34.526860Z",
     "iopub.status.idle": "2023-06-14T23:37:34.529738Z",
     "shell.execute_reply": "2023-06-14T23:37:34.529346Z"
    },
    "papermill": {
     "duration": 4.156423,
     "end_time": "2023-06-14T23:37:34.532458",
     "exception": false,
     "start_time": "2023-06-14T23:37:30.376035",
     "status": "completed"
    },
    "tags": []
   },
   "outputs": [],
   "source": [
    "#copyfile('/kaggle/working/runs/detect/train/results.png','/kaggle/working/results.png')\n",
    "#copyfile('/kaggle/working/runs/detect/train/results.csv','/kaggle/working/results.csv')\n",
    "#copyfile('/kaggle/working/runs/detect/train/weights/best.pt','/kaggle/working/best.pt')"
   ]
  },
  {
   "cell_type": "code",
   "execution_count": null,
   "id": "ed4d5ad2",
   "metadata": {
    "papermill": {
     "duration": 3.877149,
     "end_time": "2023-06-14T23:37:42.597281",
     "exception": false,
     "start_time": "2023-06-14T23:37:38.720132",
     "status": "completed"
    },
    "tags": []
   },
   "outputs": [],
   "source": []
  }
 ],
 "metadata": {
  "kernelspec": {
   "display_name": "Python 3",
   "language": "python",
   "name": "python3"
  },
  "language_info": {
   "codemirror_mode": {
    "name": "ipython",
    "version": 3
   },
   "file_extension": ".py",
   "mimetype": "text/x-python",
   "name": "python",
   "nbconvert_exporter": "python",
   "pygments_lexer": "ipython3",
   "version": "3.10.10"
  },
  "papermill": {
   "default_parameters": {},
   "duration": 39943.017529,
   "end_time": "2023-06-14T23:37:50.633715",
   "environment_variables": {},
   "exception": null,
   "input_path": "__notebook__.ipynb",
   "output_path": "__notebook__.ipynb",
   "parameters": {},
   "start_time": "2023-06-14T12:32:07.616186",
   "version": "2.4.0"
  }
 },
 "nbformat": 4,
 "nbformat_minor": 5
}
